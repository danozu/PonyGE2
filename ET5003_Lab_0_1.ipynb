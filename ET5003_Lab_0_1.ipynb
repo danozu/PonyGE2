{
  "nbformat": 4,
  "nbformat_minor": 0,
  "metadata": {
    "colab": {
      "name": "ET5003_Lab_0_1.ipynb",
      "provenance": []
    },
    "kernelspec": {
      "name": "python3",
      "display_name": "Python 3"
    },
    "language_info": {
      "name": "python"
    }
  },
  "cells": [
    {
      "cell_type": "markdown",
      "metadata": {
        "id": "ZnChNjRtxReo"
      },
      "source": [
        "<div>\n",
        "<img src=\"https://drive.google.com/uc?export=view&id=1vK33e_EqaHgBHcbRV_m38hx6IkG0blK_\" width=\"350\"/>\n",
        "</div> \n",
        "\n",
        "#**Artificial Intelligence - MSc**\n",
        "ET5003 - MACHINE LEARNING APPLICATIONS \n",
        "\n",
        "###Instructor: Enrique Naredo\n",
        "###ET5003_Lab-0.1"
      ]
    },
    {
      "cell_type": "markdown",
      "metadata": {
        "id": "JLpPSD9Z8pBO"
      },
      "source": [
        "# Python Basics"
      ]
    },
    {
      "cell_type": "markdown",
      "metadata": {
        "id": "CLNU1zRpEwgi"
      },
      "source": [
        "### Markdown Examples"
      ]
    },
    {
      "cell_type": "markdown",
      "metadata": {
        "id": "XEiC0hkaE74A"
      },
      "source": [
        "This is **bold**. \n",
        "\n",
        "This is *italic*. \n",
        "\n",
        "This is ~strikethrough~."
      ]
    },
    {
      "cell_type": "markdown",
      "metadata": {
        "id": "tNFS8gVRFLXS"
      },
      "source": [
        "Mathematical Equations\n",
        "\n",
        "$\\sqrt{3x-1}+(1+x)^2$\n",
        "\n",
        "$e^x=\\sum_{i=0}^\\infty \\frac{1}{i!}x^i$"
      ]
    },
    {
      "cell_type": "markdown",
      "metadata": {
        "id": "PRq1ZrpU9kNC"
      },
      "source": [
        "### Python Comments"
      ]
    },
    {
      "cell_type": "code",
      "metadata": {
        "id": "XnuvhtLg9npr"
      },
      "source": [
        "# This is a single line comment"
      ],
      "execution_count": null,
      "outputs": []
    },
    {
      "cell_type": "code",
      "metadata": {
        "id": "v4LN70Yq-CEm"
      },
      "source": [
        "'''\n",
        "THIS IS A MULTILINE COMMENT\n",
        "USING STRING LITERALS!\n",
        "'''"
      ],
      "execution_count": null,
      "outputs": []
    },
    {
      "cell_type": "code",
      "metadata": {
        "id": "7cfq_n8U-bNp"
      },
      "source": [
        "\"\"\"\n",
        "This is a comment\n",
        "written in\n",
        "more than just one line\n",
        "\"\"\""
      ],
      "execution_count": null,
      "outputs": []
    },
    {
      "cell_type": "markdown",
      "metadata": {
        "id": "vhRIJ7OD5iaS"
      },
      "source": [
        "### Python Indentation"
      ]
    },
    {
      "cell_type": "code",
      "metadata": {
        "id": "5m8_yPXz5Vgz"
      },
      "source": [
        "## Good indentation\n",
        "\n",
        "if 10 > 5:\n",
        "  print(\"Ten is greater than five!\")"
      ],
      "execution_count": null,
      "outputs": []
    },
    {
      "cell_type": "code",
      "metadata": {
        "id": "r3ezf2th8wqd"
      },
      "source": [
        "## Wrong indentation\n",
        "# add blank spaces to get the right indentation\n",
        "\n",
        "if 10 > 5:\n",
        "print(\"Ten is greater than five!\")"
      ],
      "execution_count": null,
      "outputs": []
    },
    {
      "cell_type": "markdown",
      "metadata": {
        "id": "_vz_Eylu9Ij6"
      },
      "source": [
        "### Python Variables"
      ]
    },
    {
      "cell_type": "code",
      "metadata": {
        "id": "hFE6bW7e9N3X"
      },
      "source": [
        "x = 10\n",
        "y = \"Hello, Friend!\""
      ],
      "execution_count": null,
      "outputs": []
    },
    {
      "cell_type": "code",
      "metadata": {
        "id": "ctn4HhFW-_M0"
      },
      "source": [
        "z = \"Celtics\"\n",
        "# is the same as\n",
        "z = 'Celtics'"
      ],
      "execution_count": null,
      "outputs": []
    },
    {
      "cell_type": "code",
      "metadata": {
        "id": "iKYY8GOQ_UAa"
      },
      "source": [
        "a = 4\n",
        "# is NOT the same as\n",
        "A = 4"
      ],
      "execution_count": null,
      "outputs": []
    },
    {
      "cell_type": "code",
      "metadata": {
        "id": "DqAs1TeI_xXY"
      },
      "source": [
        "# Legal variable names\n",
        "\n",
        "myvar   = \"Anything\"\n",
        "my_var  = \"Anything\"\n",
        "_my_var = \"Anything\"\n",
        "myVar   = \"Anything\"\n",
        "MYVAR   = \"Anything\"\n",
        "myvar2  = \"Anything\""
      ],
      "execution_count": null,
      "outputs": []
    },
    {
      "cell_type": "code",
      "metadata": {
        "id": "rYeVoiVIAHZE"
      },
      "source": [
        "# Camel Case\n",
        "myVariableName = \"Something\""
      ],
      "execution_count": null,
      "outputs": []
    },
    {
      "cell_type": "code",
      "metadata": {
        "id": "2SxZ4LsFATuG"
      },
      "source": [
        "# Pascal Case\n",
        "MyVariableName = \"Something\""
      ],
      "execution_count": null,
      "outputs": []
    },
    {
      "cell_type": "code",
      "metadata": {
        "id": "KTTOCto2Aha_"
      },
      "source": [
        "# Snake Case\n",
        "my_variable_name = \"Something\""
      ],
      "execution_count": null,
      "outputs": []
    },
    {
      "cell_type": "code",
      "metadata": {
        "id": "Pi4inIHgApVE"
      },
      "source": [
        "# Invent your own case\n",
        "my_Variable-NAME = \"Something\""
      ],
      "execution_count": null,
      "outputs": []
    },
    {
      "cell_type": "code",
      "metadata": {
        "id": "McJxzxxeBEAu"
      },
      "source": [
        "# Many Values to Multiple Variables\n",
        "alpha, beta, gamma = \"Anything\", \"Something\", \"Whatever\"\n",
        "print(alpha)\n",
        "print(beta)\n",
        "print(gamma)"
      ],
      "execution_count": null,
      "outputs": []
    },
    {
      "cell_type": "code",
      "metadata": {
        "id": "Q1-y_vo3BfXC"
      },
      "source": [
        "# One Value to Multiple Variables\n",
        "alpha = beta = gamma = \"Everything\"\n",
        "print(alpha)\n",
        "print(beta)\n",
        "print(gamma)"
      ],
      "execution_count": null,
      "outputs": []
    }
  ]
}